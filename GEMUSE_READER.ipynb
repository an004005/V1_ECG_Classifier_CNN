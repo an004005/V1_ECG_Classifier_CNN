{
 "cells": [
  {
   "cell_type": "code",
   "execution_count": 1,
   "metadata": {},
   "outputs": [],
   "source": [
    "import glob\n",
    "import os\n",
    "import cv2\n",
    "import numpy as np\n",
    "import matplotlib.pyplot as plt\n",
    "import pandas as pd\n",
    "import operator\n",
    "# import xml.etree.ElementTree as elemTree\n"
   ]
  },
  {
   "cell_type": "code",
   "execution_count": 2,
   "metadata": {},
   "outputs": [],
   "source": [
    "test = pd.read_csv('../musexmlexport_0.1/musexmlexport/MUSE_20200210_153855_04000.csv')"
   ]
  },
  {
   "cell_type": "code",
   "execution_count": 3,
   "metadata": {
    "scrolled": true
   },
   "outputs": [
    {
     "data": {
      "text/html": [
       "<div>\n",
       "<style scoped>\n",
       "    .dataframe tbody tr th:only-of-type {\n",
       "        vertical-align: middle;\n",
       "    }\n",
       "\n",
       "    .dataframe tbody tr th {\n",
       "        vertical-align: top;\n",
       "    }\n",
       "\n",
       "    .dataframe thead th {\n",
       "        text-align: right;\n",
       "    }\n",
       "</style>\n",
       "<table border=\"1\" class=\"dataframe\">\n",
       "  <thead>\n",
       "    <tr style=\"text-align: right;\">\n",
       "      <th></th>\n",
       "      <th>I</th>\n",
       "      <th>II</th>\n",
       "      <th>III</th>\n",
       "      <th>aVR</th>\n",
       "      <th>aVL</th>\n",
       "      <th>aVF</th>\n",
       "      <th>V1</th>\n",
       "      <th>V2</th>\n",
       "      <th>V3</th>\n",
       "      <th>V4</th>\n",
       "      <th>V5</th>\n",
       "      <th>V6</th>\n",
       "      <th></th>\n",
       "    </tr>\n",
       "  </thead>\n",
       "  <tbody>\n",
       "    <tr>\n",
       "      <th>0</th>\n",
       "      <td>-156</td>\n",
       "      <td>-185</td>\n",
       "      <td>-29</td>\n",
       "      <td>170</td>\n",
       "      <td>-63</td>\n",
       "      <td>-107</td>\n",
       "      <td>185</td>\n",
       "      <td>-97</td>\n",
       "      <td>204</td>\n",
       "      <td>-185</td>\n",
       "      <td>-146</td>\n",
       "      <td>-97</td>\n",
       "      <td></td>\n",
       "    </tr>\n",
       "    <tr>\n",
       "      <th>1</th>\n",
       "      <td>-156</td>\n",
       "      <td>-185</td>\n",
       "      <td>-29</td>\n",
       "      <td>170</td>\n",
       "      <td>-63</td>\n",
       "      <td>-107</td>\n",
       "      <td>185</td>\n",
       "      <td>-97</td>\n",
       "      <td>204</td>\n",
       "      <td>-185</td>\n",
       "      <td>-146</td>\n",
       "      <td>-97</td>\n",
       "      <td></td>\n",
       "    </tr>\n",
       "    <tr>\n",
       "      <th>2</th>\n",
       "      <td>-156</td>\n",
       "      <td>-185</td>\n",
       "      <td>-29</td>\n",
       "      <td>170</td>\n",
       "      <td>-63</td>\n",
       "      <td>-107</td>\n",
       "      <td>185</td>\n",
       "      <td>-97</td>\n",
       "      <td>204</td>\n",
       "      <td>-185</td>\n",
       "      <td>-146</td>\n",
       "      <td>-97</td>\n",
       "      <td></td>\n",
       "    </tr>\n",
       "    <tr>\n",
       "      <th>3</th>\n",
       "      <td>-156</td>\n",
       "      <td>-185</td>\n",
       "      <td>-29</td>\n",
       "      <td>170</td>\n",
       "      <td>-63</td>\n",
       "      <td>-107</td>\n",
       "      <td>185</td>\n",
       "      <td>-97</td>\n",
       "      <td>204</td>\n",
       "      <td>-185</td>\n",
       "      <td>-146</td>\n",
       "      <td>-97</td>\n",
       "      <td></td>\n",
       "    </tr>\n",
       "    <tr>\n",
       "      <th>4</th>\n",
       "      <td>-165</td>\n",
       "      <td>-180</td>\n",
       "      <td>-14</td>\n",
       "      <td>173</td>\n",
       "      <td>-75</td>\n",
       "      <td>-97</td>\n",
       "      <td>170</td>\n",
       "      <td>-112</td>\n",
       "      <td>200</td>\n",
       "      <td>-170</td>\n",
       "      <td>-141</td>\n",
       "      <td>-92</td>\n",
       "      <td></td>\n",
       "    </tr>\n",
       "  </tbody>\n",
       "</table>\n",
       "</div>"
      ],
      "text/plain": [
       "     I   II   III   aVR   aVL   aVF   V1   V2   V3   V4   V5   V6   \n",
       "0 -156 -185   -29   170   -63  -107  185  -97  204 -185 -146  -97   \n",
       "1 -156 -185   -29   170   -63  -107  185  -97  204 -185 -146  -97   \n",
       "2 -156 -185   -29   170   -63  -107  185  -97  204 -185 -146  -97   \n",
       "3 -156 -185   -29   170   -63  -107  185  -97  204 -185 -146  -97   \n",
       "4 -165 -180   -14   173   -75   -97  170 -112  200 -170 -141  -92   "
      ]
     },
     "execution_count": 3,
     "metadata": {},
     "output_type": "execute_result"
    }
   ],
   "source": [
    "test.head()"
   ]
  },
  {
   "cell_type": "code",
   "execution_count": 4,
   "metadata": {
    "scrolled": true
   },
   "outputs": [
    {
     "data": {
      "text/plain": [
       "Index(['I', ' II', ' III', ' aVR', ' aVL', ' aVF', ' V1', ' V2', ' V3', ' V4',\n",
       "       ' V5', ' V6', ' '],\n",
       "      dtype='object')"
      ]
     },
     "execution_count": 4,
     "metadata": {},
     "output_type": "execute_result"
    }
   ],
   "source": [
    "test.columns"
   ]
  },
  {
   "cell_type": "code",
   "execution_count": 8,
   "metadata": {},
   "outputs": [
    {
     "data": {
      "text/plain": [
       "array([ 185,  185,  185, ..., -161, -161, -161])"
      ]
     },
     "execution_count": 8,
     "metadata": {},
     "output_type": "execute_result"
    }
   ],
   "source": [
    "y = np.array(test.loc[:, [' V1']])\n",
    "Y = y.T[0]\n",
    "Y"
   ]
  },
  {
   "cell_type": "code",
   "execution_count": 9,
   "metadata": {
    "scrolled": true
   },
   "outputs": [
    {
     "data": {
      "image/png": "[encoded data removed]",
      "text/plain": [
       "<Figure size 432x288 with 1 Axes>"
      ]
     },
     "metadata": {
      "needs_background": "light"
     },
     "output_type": "display_data"
    }
   ],
   "source": [
    "\n",
    "index = [i for i in range(Y.size)]\n",
    "\n",
    "fig = plt.figure()\n",
    "ax = fig.add_subplot(1,1,1)\n",
    "\n",
    "ax.plot(index, Y)\n",
    "plt.show()\n",
    "\n"
   ]
  },
  {
   "cell_type": "code",
   "execution_count": null,
   "metadata": {},
   "outputs": [],
   "source": []
  }
 ],
 "metadata": {
  "kernelspec": {
   "display_name": "Python 3",
   "language": "python",
   "name": "python3"
  },
  "language_info": {
   "codemirror_mode": {
    "name": "ipython",
    "version": 3
   },
   "file_extension": ".py",
   "mimetype": "text/x-python",
   "name": "python",
   "nbconvert_exporter": "python",
   "pygments_lexer": "ipython3",
   "version": "3.6.9"
  }
 },
 "nbformat": 4,
 "nbformat_minor": 4
}
