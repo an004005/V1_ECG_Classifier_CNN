{
 "cells": [
  {
   "cell_type": "code",
   "execution_count": 1,
   "metadata": {},
   "outputs": [],
   "source": [
    "import numpy as np\n",
    "import matplotlib.pyplot as plt\n",
    "import pathlib\n",
    "import pandas as pd\n",
    "from ecgdetectors import Detectors\n",
    "import BLWR\n",
    "import os"
   ]
  },
  {
   "cell_type": "code",
   "execution_count": 6,
   "metadata": {},
   "outputs": [],
   "source": [
    "# VT Labeling 전용\n",
    "# 라벨링 다양화 -> nor, up nor, down nor, pvc lbbb, pvc rbbb, vt lbbb, vt rbbb \n",
    "Dirs = '../patient data 2/PVC 2nd data/RBBB/'\n",
    "tmp = '13-APR-2015-12.59.28 PVC RBBB'\n",
    "\n",
    "workDir = os.path.abspath(Dirs+tmp)\n",
    "\n",
    "newStr = 'pvc rbbb'\n",
    "\n",
    "for (path, dir, files) in os.walk(workDir):\n",
    "    for filename in files:\n",
    "        ext = os.path.splitext(filename)[-1]\n",
    "        \n",
    "        if ext=='.png' and filename[:3]=='nor':\n",
    "#             print(filename)\n",
    "            os.rename(path + '/' +filename, path + '/' + newStr + filename[3:])\n",
    "\n",
    "\n",
    "\n",
    "    "
   ]
  },
  {
   "cell_type": "code",
   "execution_count": 88,
   "metadata": {},
   "outputs": [
    {
     "name": "stdout",
     "output_type": "stream",
     "text": [
      "nor13.png\n",
      "nor2.png\n",
      "nor7.png\n",
      "nor9.png\n"
     ]
    }
   ],
   "source": [
    "# PVA labeling전용\n",
    "Dirs = '../patient data 2/PVC 2nd data/LBBB/'\n",
    "plus = '12862807 - LVOT NCC -  PVC.NSVT LBBB/24-MAY-2011-05.33.29 PVC LBBB'\n",
    "\n",
    "workDir = os.path.abspath(Dirs+plus)\n",
    "\n",
    "newStr = 'pvc lbbb'\n",
    "target = [2,7,9,13]\n",
    "\n",
    "for (path, dir, files) in os.walk(workDir):\n",
    "    for filename in files:\n",
    "        ext = os.path.splitext(filename)[-1]\n",
    "        \n",
    "        if ext=='.png' and filename[:3]=='nor':\n",
    "            number = filename.split('.')[0]\n",
    "            number = int(number[3:])\n",
    "            \n",
    "            if number in target:\n",
    "                print(filename)\n",
    "                os.rename(path + '/' +filename, path + '/' + newStr + filename[3:])\n",
    "\n",
    "\n"
   ]
  },
  {
   "cell_type": "code",
   "execution_count": null,
   "metadata": {},
   "outputs": [],
   "source": []
  }
 ],
 "metadata": {
  "kernelspec": {
   "display_name": "Python 3",
   "language": "python",
   "name": "python3"
  },
  "language_info": {
   "codemirror_mode": {
    "name": "ipython",
    "version": 3
   },
   "file_extension": ".py",
   "mimetype": "text/x-python",
   "name": "python",
   "nbconvert_exporter": "python",
   "pygments_lexer": "ipython3",
   "version": "3.6.9"
  }
 },
 "nbformat": 4,
 "nbformat_minor": 4
}
