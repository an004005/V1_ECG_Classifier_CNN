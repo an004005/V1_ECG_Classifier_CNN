{
 "cells": [
  {
   "cell_type": "code",
   "execution_count": 2,
   "metadata": {},
   "outputs": [],
   "source": [
    "import numpy as np\n",
    "import pandas as pd\n",
    "from scipy import io\n",
    "import os\n",
    "import cv2\n",
    "import matplotlib.pyplot as plt"
   ]
  },
  {
   "cell_type": "code",
   "execution_count": 103,
   "metadata": {},
   "outputs": [],
   "source": [
    "mnist = io.loadmat('mnist-original.mat')\n",
    "X, y = mnist['data'], mnist['label']\n",
    "X = np.array(X).T\n",
    "y = np.array(y).T.ravel()"
   ]
  },
  {
   "cell_type": "code",
   "execution_count": 8,
   "metadata": {},
   "outputs": [
    {
     "name": "stdout",
     "output_type": "stream",
     "text": [
      "(96, 48)\n"
     ]
    },
    {
     "data": {
      "image/png": "[encoded data removed]",
      "text/plain": [
       "<Figure size 432x288 with 1 Axes>"
      ]
     },
     "metadata": {
      "needs_background": "light"
     },
     "output_type": "display_data"
    }
   ],
   "source": [
    "# z = np.array(X[0])\n",
    "\n",
    "# z= np.vstack((z, X[1]))\n",
    "# z.shape\n",
    "# print(z)\n",
    "\n",
    "im = cv2.imread(\"../patient data 2020.3.27/11423425 - RVOT anteroseptal_ PVC LBBB/08-JUL-2009-09.09.45 PVC LBBB/pvc lbbb1.png\", cv2.IMREAD_GRAYSCALE)\n",
    "im = cv2.resize(im, dsize=(48, 96),interpolation=cv2.INTER_LINEAR)\n",
    "print(im.shape)\n",
    "\n",
    "im = im.flatten()\n",
    "\n",
    "\n",
    "\n",
    "plt.imshow(im.reshape(96, 48)) \n",
    "plt.show()\n",
    "\n",
    "# z = np.array('lbbb')\n",
    "\n",
    "# z= np.vstack((z, 'nor'))\n",
    "# z.shape\n",
    "# print(z.flatten())\n",
    "# print(y.shape)\n",
    "# print(y[0:10])\n"
   ]
  },
  {
   "cell_type": "code",
   "execution_count": 4,
   "metadata": {
    "scrolled": true
   },
   "outputs": [
    {
     "name": "stdout",
     "output_type": "stream",
     "text": [
      "/tf/notebooks/patient data 2020.3.27\n",
      "/tf/notebooks/patient data 2\n"
     ]
    }
   ],
   "source": [
    "DIrs = ['../patient data 2020.3.27', '../patient data 2']\n",
    "targets = ['nor', 'pvc lbbb', 'pvc rbbb', 'vt lbbb', 'vt rbbb', 'sinus rbbb']\n",
    "# lead = ['I', 'II', 'III', 'aVR', 'aVL', 'aVF', 'V1', 'V2', 'V3', 'V4','V5', 'V6']\n",
    "# lead = ['II', 'V5', 'V1']\n",
    "lead = ['V1']\n",
    "import re\n",
    "\n",
    "\n",
    "flag=0\n",
    "counter = [0, 0, 0, 0, 0, 0, 6]\n",
    "\n",
    "# def makeLabel(target):\n",
    "#     if target=='nor':\n",
    "#         counter[0] += 1\n",
    "#         return ['sinus', 'nor']\n",
    "#     if target=='sinus rbbb':\n",
    "#         counter[1] += 1\n",
    "#         return ['sinus', 'rbbb']\n",
    "#     if target=='sinus lbbb':\n",
    "#         counter[2] += 1\n",
    "#         return ['sinus', 'lbbb']\n",
    "#     if target=='pvc lbbb':\n",
    "#         counter[3] += 1\n",
    "#         return ['pvc', 'lbbb']\n",
    "#     if target=='pvc rbbb':\n",
    "#         counter[4] += 1\n",
    "#         return ['pvc', 'rbbb']\n",
    "#     if target=='vt lbbb':\n",
    "#         counter[5] += 1\n",
    "#         return ['vt', 'lbbb']\n",
    "#     if target=='vt rbbb':\n",
    "#         counter[6] += 1\n",
    "#         return ['vt', 'rbbb']\n",
    "def makeLabel(target):\n",
    "    if target=='nor':\n",
    "        counter[0] += 1\n",
    "        return 'nor'\n",
    "    if target=='sinus rbbb':\n",
    "        counter[1] += 1\n",
    "        return 'rbbb'\n",
    "    if target=='sinus lbbb':\n",
    "        counter[2] += 1\n",
    "        return 'lbbb'\n",
    "    if target=='pvc lbbb':\n",
    "        counter[3] += 1\n",
    "        return 'lbbb'\n",
    "    if target=='pvc rbbb':\n",
    "        counter[4] += 1\n",
    "        return 'rbbb'\n",
    "    if target=='vt lbbb':\n",
    "        counter[5] += 1\n",
    "        return 'lbbb'\n",
    "    if target=='vt rbbb':\n",
    "        counter[6] += 1\n",
    "        return 'rbbb'\n",
    "    \n",
    "for targetLead in lead:\n",
    "    X = np.array([])\n",
    "    y = np.array([])\n",
    "    for Dir in DIrs:\n",
    "        workDIr = os.path.abspath(Dir)\n",
    "        print(workDIr)\n",
    "        for (path, dir, files) in os.walk(workDIr):\n",
    "            if path.split('/')[-1] != targetLead:\n",
    "                continue\n",
    "            for i, file in enumerate(files):\n",
    "                if 'Rpeak' in file:\n",
    "                    del files[i]\n",
    "\n",
    "    #         for dirname in dirnames:\n",
    "    #             print(\"\\t\", dirname)\n",
    "            files = sorted(files, key=lambda x: int(re.sub('\\D', '', x)))\n",
    "#             print(files)\n",
    "            for filename in files:\n",
    "                ext = os.path.splitext(filename)[-1]\n",
    "                if ext== '.png':\n",
    "                    for target in targets:\n",
    "                        if target in filename:\n",
    "                            if target=='nor' and flag%5!=0:\n",
    "                                flag+=1\n",
    "                                continue\n",
    "                            elif target=='nor' and flag%5==0:\n",
    "                                flag+=1\n",
    "                            im = cv2.imread(path + '/' + filename, cv2.IMREAD_GRAYSCALE)\n",
    "                            im = cv2.resize(im, dsize=(48, 96),interpolation=cv2.INTER_LINEAR).flatten()\n",
    "                            if len(X) == 0:\n",
    "                                X = np.array(im)\n",
    "                                y = np.array(makeLabel(target))\n",
    "                            else:\n",
    "                                X = np.vstack((X, im))\n",
    "                                y = np.vstack((y, makeLabel(target)))\n",
    "                            break\n",
    "                            \n",
    "    \n",
    "    \n",
    "    io.savemat('testImg_half_shape_'+ targetLead +'.mat', {'data': X, 'label': y})"
   ]
  },
  {
   "cell_type": "code",
   "execution_count": 7,
   "metadata": {},
   "outputs": [
    {
     "data": {
      "text/plain": [
       "array([['lbbb'],\n",
       "       ['nor'],\n",
       "       ['nor'],\n",
       "       ...,\n",
       "       ['rbbb'],\n",
       "       ['rbbb'],\n",
       "       ['nor']], dtype='<U4')"
      ]
     },
     "execution_count": 7,
     "metadata": {},
     "output_type": "execute_result"
    }
   ],
   "source": []
  },
  {
   "cell_type": "code",
   "execution_count": 5,
   "metadata": {},
   "outputs": [],
   "source": []
  },
  {
   "cell_type": "code",
   "execution_count": 6,
   "metadata": {},
   "outputs": [
    {
     "name": "stdout",
     "output_type": "stream",
     "text": [
      "(2254, 4608)\n",
      "[['sinus' 'nor']\n",
      " ['sinus' 'nor']\n",
      " ['sinus' 'nor']\n",
      " ...\n",
      " ['sinus' 'nor']\n",
      " ['pvc' 'rbbb']\n",
      " ['pvc' 'rbbb']]\n",
      "[255 255 255 ... 255 255 255]\n"
     ]
    }
   ],
   "source": [
    "print(X.shape)\n",
    "print(y)\n",
    "print(X[0])"
   ]
  },
  {
   "cell_type": "code",
   "execution_count": 12,
   "metadata": {},
   "outputs": [],
   "source": [
    "types = {'nor': 0, 'rbbb': 1, 'lbbb': 2}\n",
    "\n",
    "tmp = []\n",
    "for i in y:\n",
    "    tmp.append(types[i])\n",
    "y = np.array(tmp)"
   ]
  },
  {
   "cell_type": "code",
   "execution_count": 13,
   "metadata": {},
   "outputs": [
    {
     "data": {
      "text/plain": [
       "array([0, 0, 0, ..., 0, 1, 1])"
      ]
     },
     "execution_count": 13,
     "metadata": {},
     "output_type": "execute_result"
    }
   ],
   "source": [
    "cnt = {'nor': 0, 'rbbb': 0, 'lbbb': 0}\n",
    "for i in y:\n",
    "    "
   ]
  },
  {
   "cell_type": "code",
   "execution_count": 150,
   "metadata": {},
   "outputs": [],
   "source": [
    "from keras import layers, models\n",
    "from keras.applications import VGG16\n",
    "from keras import Input\n",
    "from keras.models import Model\n",
    "from keras.preprocessing.image import ImageDataGenerator\n",
    "from keras import optimizers, initializers, regularizers, metrics\n",
    "from keras.callbacks import ModelCheckpoint\n",
    "import os\n",
    "from glob import glob\n",
    "from PIL import Image\n",
    "import matplotlib.pyplot as plt\n",
    "import numpy as np"
   ]
  },
  {
   "cell_type": "code",
   "execution_count": 174,
   "metadata": {},
   "outputs": [],
   "source": [
    "from sklearn.model_selection import train_test_split\n",
    "\n",
    "X_train, X_test, y_train, y_test = train_test_split(X, y, test_size=0.1, random_state=1, stratify=y)"
   ]
  },
  {
   "cell_type": "code",
   "execution_count": 175,
   "metadata": {},
   "outputs": [],
   "source": [
    "X_train = X_train.reshape(2943, 192, 96, 1)\n",
    "X_test = X_test.reshape(328, 192, 96,1)\n"
   ]
  },
  {
   "cell_type": "code",
   "execution_count": 176,
   "metadata": {},
   "outputs": [
    {
     "data": {
      "text/plain": [
       "(2943,)"
      ]
     },
     "execution_count": 176,
     "metadata": {},
     "output_type": "execute_result"
    }
   ],
   "source": []
  },
  {
   "cell_type": "code",
   "execution_count": 179,
   "metadata": {},
   "outputs": [
    {
     "data": {
      "text/plain": [
       "array([[255, 255, 255, ..., 255, 255, 255],\n",
       "       [255, 255, 255, ..., 255, 255, 255],\n",
       "       [255, 255, 255, ..., 255, 255, 255],\n",
       "       ...,\n",
       "       [255, 255, 255, ..., 255, 255, 255],\n",
       "       [255, 255, 255, ..., 255, 255, 255],\n",
       "       [255, 255, 255, ..., 255, 255, 255]], dtype=uint8)"
      ]
     },
     "execution_count": 179,
     "metadata": {},
     "output_type": "execute_result"
    }
   ],
   "source": [
    "X"
   ]
  },
  {
   "cell_type": "code",
   "execution_count": 177,
   "metadata": {},
   "outputs": [
    {
     "name": "stdout",
     "output_type": "stream",
     "text": [
      "Model: \"model_4\"\n",
      "_________________________________________________________________\n",
      "Layer (type)                 Output Shape              Param #   \n",
      "=================================================================\n",
      "input (InputLayer)           (None, 192, 96, 1)        0         \n",
      "_________________________________________________________________\n",
      "conv2d_40 (Conv2D)           (None, 192, 96, 64)       640       \n",
      "_________________________________________________________________\n",
      "conv2d_41 (Conv2D)           (None, 192, 96, 64)       36928     \n",
      "_________________________________________________________________\n",
      "max_pooling2d_16 (MaxPooling (None, 96, 48, 64)        0         \n",
      "_________________________________________________________________\n",
      "conv2d_42 (Conv2D)           (None, 96, 48, 128)       73856     \n",
      "_________________________________________________________________\n",
      "conv2d_43 (Conv2D)           (None, 96, 48, 128)       147584    \n",
      "_________________________________________________________________\n",
      "max_pooling2d_17 (MaxPooling (None, 48, 24, 128)       0         \n",
      "_________________________________________________________________\n",
      "conv2d_44 (Conv2D)           (None, 48, 24, 256)       295168    \n",
      "_________________________________________________________________\n",
      "conv2d_45 (Conv2D)           (None, 48, 24, 256)       590080    \n",
      "_________________________________________________________________\n",
      "conv2d_46 (Conv2D)           (None, 48, 24, 256)       590080    \n",
      "_________________________________________________________________\n",
      "max_pooling2d_18 (MaxPooling (None, 24, 12, 256)       0         \n",
      "_________________________________________________________________\n",
      "conv2d_47 (Conv2D)           (None, 24, 12, 512)       1180160   \n",
      "_________________________________________________________________\n",
      "conv2d_48 (Conv2D)           (None, 24, 12, 512)       2359808   \n",
      "_________________________________________________________________\n",
      "conv2d_49 (Conv2D)           (None, 24, 12, 512)       2359808   \n",
      "_________________________________________________________________\n",
      "max_pooling2d_19 (MaxPooling (None, 12, 6, 512)        0         \n",
      "_________________________________________________________________\n",
      "conv2d_50 (Conv2D)           (None, 12, 6, 512)        2359808   \n",
      "_________________________________________________________________\n",
      "conv2d_51 (Conv2D)           (None, 12, 6, 512)        2359808   \n",
      "_________________________________________________________________\n",
      "conv2d_52 (Conv2D)           (None, 12, 6, 512)        2359808   \n",
      "_________________________________________________________________\n",
      "max_pooling2d_20 (MaxPooling (None, 6, 3, 512)         0         \n",
      "_________________________________________________________________\n",
      "flatten_4 (Flatten)          (None, 9216)              0         \n",
      "_________________________________________________________________\n",
      "dense_12 (Dense)             (None, 4096)              37752832  \n",
      "_________________________________________________________________\n",
      "dense_13 (Dense)             (None, 4096)              16781312  \n",
      "_________________________________________________________________\n",
      "dense_14 (Dense)             (None, 3)                 12291     \n",
      "=================================================================\n",
      "Total params: 69,259,971\n",
      "Trainable params: 69,259,971\n",
      "Non-trainable params: 0\n",
      "_________________________________________________________________\n"
     ]
    }
   ],
   "source": [
    "input_tensor = Input(shape=(192, 96, 1), dtype='uint8', name='input')\n",
    " \n",
    "x = layers.Conv2D(64, (3, 3), activation='relu', padding='same', kernel_initializer='he_normal', kernel_regularizer=regularizers.l2(0.01))(input_tensor)\n",
    "x = layers.Conv2D(64, (3, 3), activation='relu', padding='same', kernel_initializer='he_normal', kernel_regularizer=regularizers.l2(0.01))(x)\n",
    "x = layers.MaxPooling2D((2,2))(x)\n",
    " \n",
    "x = layers.Conv2D(128, (3, 3), activation='relu', padding='same', kernel_initializer='he_normal', kernel_regularizer=regularizers.l2(0.01))(x)\n",
    "x = layers.Conv2D(128, (3, 3), activation='relu', padding='same', kernel_initializer='he_normal', kernel_regularizer=regularizers.l2(0.01))(x)\n",
    "x = layers.MaxPooling2D((2,2))(x)\n",
    " \n",
    "x = layers.Conv2D(256, (3, 3), activation='relu', padding='same', kernel_initializer='he_normal', kernel_regularizer=regularizers.l2(0.01))(x)\n",
    "x = layers.Conv2D(256, (3, 3), activation='relu', padding='same', kernel_initializer='he_normal', kernel_regularizer=regularizers.l2(0.01))(x)\n",
    "x = layers.Conv2D(256, (3, 3), activation='relu', padding='same', kernel_initializer='he_normal', kernel_regularizer=regularizers.l2(0.01))(x)\n",
    "x = layers.MaxPooling2D((2,2))(x)\n",
    " \n",
    "x = layers.Conv2D(512, (3, 3), activation='relu', padding='same', kernel_initializer='he_normal', kernel_regularizer=regularizers.l2(0.01))(x)\n",
    "x = layers.Conv2D(512, (3, 3), activation='relu', padding='same', kernel_initializer='he_normal', kernel_regularizer=regularizers.l2(0.01))(x)\n",
    "x = layers.Conv2D(512, (3, 3), activation='relu', padding='same', kernel_initializer='he_normal', kernel_regularizer=regularizers.l2(0.01))(x)\n",
    "x = layers.MaxPooling2D((2,2))(x)\n",
    " \n",
    "x = layers.Conv2D(512, (3, 3), activation='relu', padding='same', kernel_initializer='he_normal', kernel_regularizer=regularizers.l2(0.01))(x)\n",
    "x = layers.Conv2D(512, (3, 3), activation='relu', padding='same', kernel_initializer='he_normal', kernel_regularizer=regularizers.l2(0.01))(x)\n",
    "x = layers.Conv2D(512, (3, 3), activation='relu', padding='same', kernel_initializer='he_normal', kernel_regularizer=regularizers.l2(0.01))(x)\n",
    "x = layers.MaxPooling2D((2,2))(x)\n",
    " \n",
    "x = layers.Flatten()(x)\n",
    "x = layers.Dense(4096, kernel_initializer='he_normal')(x)\n",
    "x = layers.Dense(4096, kernel_initializer='he_normal')(x)\n",
    "output_tensor = layers.Dense(3, activation='softmax')(x)\n",
    " \n",
    "myvgg = Model(input_tensor, output_tensor)\n",
    "myvgg.summary()"
   ]
  },
  {
   "cell_type": "code",
   "execution_count": null,
   "metadata": {},
   "outputs": [
    {
     "name": "stdout",
     "output_type": "stream",
     "text": [
      "Train on 2648 samples, validate on 295 samples\n",
      "Epoch 1/100\n"
     ]
    }
   ],
   "source": [
    "checkpoint = ModelCheckpoint(filepath='My_ECG.hdf5', \n",
    "            monitor='loss', \n",
    "            mode='min', \n",
    "            save_best_only=True)\n",
    " \n",
    "myvgg.compile(loss='sparse_categorical_crossentropy', optimizer=optimizers.RMSprop(lr=2e-5), metrics=['acc'])\n",
    " \n",
    "myvgg.fit(X_train, y_train, epochs=100, verbose=2, validation_split=0.1)\n",
    "\n",
    "model.load_weights(file_path)\n",
    "\n",
    "pred_test = model.predict(x_test)\n",
    "pred_test = np.argmax(pred_test, axis=-1)\n",
    "\n",
    "f1 = f1_score(y_test, pred_test, average=\"macro\")\n",
    "\n",
    "print(\"Test f1 score : %s \"% f1)\n",
    "\n",
    "acc = accuracy_score(y_test, pred_test)\n",
    "\n",
    "print(\"Test accuracy score : %s \"% acc)\n",
    "\n",
    "\n",
    "# history = myvgg.fit_generator(X_train, y_train, \n",
    "#             steps_per_epoch=25, \n",
    "#             epochs=300, \n",
    "#             validation_data=val_generator, \n",
    "#             validation_steps=16, \n",
    "#             callbacks=[checkpoint])\n",
    " \n",
    " \n",
    "# acc = history.history['acc']\n",
    "# val_acc = history.history['val_acc']\n",
    "# loss = history.history['loss']\n",
    "# val_loss = history.history['val_loss']\n",
    " \n"
   ]
  },
  {
   "cell_type": "code",
   "execution_count": null,
   "metadata": {},
   "outputs": [],
   "source": [
    "epochs = range(1, len(acc) + 1)\n",
    " \n",
    "plt.plot(epochs, acc, 'bo', label='Training acc')\n",
    "plt.plot(epochs, val_acc, 'b', label='Validation acc')\n",
    "plt.title('Accuracy')\n",
    "plt.legend()\n",
    "plt.figure()\n",
    " \n",
    "plt.plot(epochs, loss, 'ro', label='Training loss')\n",
    "plt.plot(epochs, val_loss, 'r', label='Validation loss')\n",
    "plt.title('Loss')\n",
    "plt.legend()\n",
    " \n",
    "plt.show()"
   ]
  }
 ],
 "metadata": {
  "kernelspec": {
   "display_name": "Python 3",
   "language": "python",
   "name": "python3"
  },
  "language_info": {
   "codemirror_mode": {
    "name": "ipython",
    "version": 3
   },
   "file_extension": ".py",
   "mimetype": "text/x-python",
   "name": "python",
   "nbconvert_exporter": "python",
   "pygments_lexer": "ipython3",
   "version": "3.6.9"
  }
 },
 "nbformat": 4,
 "nbformat_minor": 4
}
