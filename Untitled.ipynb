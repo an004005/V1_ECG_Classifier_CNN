{
 "cells": [
  {
   "cell_type": "code",
   "execution_count": 5,
   "metadata": {},
   "outputs": [],
   "source": [
    "from sklearn.datasets import fetch_20newsgroups\n",
    "\n",
    "categories = ['alt.atheism', 'soc.religion.christian', 'comp.graphics', 'sci.med']\n",
    "\n",
    "news = fetch_20newsgroups(categories=categories,\n",
    "                          shuffle=False,\n",
    "                          random_state=42)\n",
    "\n",
    "X = news.data\n",
    "y = news.target"
   ]
  },
  {
   "cell_type": "code",
   "execution_count": 54,
   "metadata": {},
   "outputs": [
    {
     "name": "stdout",
     "output_type": "stream",
     "text": [
      "From: JEK@cu.nih.gov\n",
      "Subject: God, morality, and massacres\n",
      "Lines: 258\n",
      "\n",
      "A listmember (D Andrew Killie, I think) wrote, in response to the\n",
      "suggestion that genocide may sometimes be the will of God:\n",
      "\n",
      " > Any God who works that way is indescribably evil,\n",
      " > and unworthy of my worship or faith.\n",
      "\n",
      "Nobuya \"Higgy\" Higashiyama replied (as, in substance, did others):\n",
      "\n",
      " > Where is your source of moral standards by which you judge God's\n",
      " > behavior?\n",
      "\n",
      "It is often argued that we have no standing by which to judge God's\n",
      "actions.  Who is the clay to talk back to the potter? But we find a\n",
      "contrary view in Scripture. When God proposes to destroy the city of\n",
      "Sodom (Genesis 18), Abraham says:\n",
      "\n",
      " + Suppose that there are some good men in the city.\n",
      " + Will you destroy the righteous along with the wicked?\n",
      " + Far be it from you, Lord, to do such a thing!\n",
      " + Shall not the Judge of all the earth do right?\n",
      "\n",
      "I am told that the Hebrew is actually a bit stronger than this, and\n",
      "can perhaps be better rendered (dynamic equivalence) as\n",
      "\n",
      " + Shame on you, Lord, if you do such a thing!\n",
      "\n",
      "There are those who say that the definition of \"good\" is \"whatever\n",
      "God happens to want.\" But if that is so, then the statement that God\n",
      "is good has no meaning.  It simply says that God does what He wants.\n",
      "That being the case, no one can either love or obey God because He\n",
      "is good. The only motive left for obeying Him is that He is\n",
      "powerful. Just as it makes sense to obey a dictator, even when he\n",
      "tells you to round up all Jews and exterminate them, because if you\n",
      "defy him you might end up in the gas chamber yourself, so it makes\n",
      "sense to obey God, because He has the power to punish you if you\n",
      "don't. This ethical theory I take to be in radical contradiction to\n",
      "Genesis 18 and to Christianity in general.\n",
      "\n",
      "Any theory that makes our moral judgements worthless makes any\n",
      "further discussion of morality (or of the goodness of God)\n",
      "meaningless. However, it does not follow that our moral judgements\n",
      "are always infallible in particular cases, still less our judgements\n",
      "in particular cases about the course of action most likely to\n",
      "achieve a good result.\n",
      "\n",
      "When I read the Scriptural accounts of the actions of God in\n",
      "history, those actions often seem to me very different from what I\n",
      "might expect of a God who loves us and desires what is best for us.\n",
      "Moreover, leaving the Scriptures aside, and considering the natural\n",
      "world, I find that Nature is often very different from what I might\n",
      "expect if it were the work of a benevolent deity.  (Origen said:\n",
      "\"Those who believe that the Author of Nature is also the Author of\n",
      "the Scriptures must expect to find in the Scriptures the same sort\n",
      "of difficulties that they find in Nature.\")\n",
      "\n",
      "Now, that some such difficulties should exist is not in itself an\n",
      "argument against the existence, power, wisdom, and goodness of God.\n",
      "On the contrary, their ABSENCE would be such an argument. Suppose\n",
      "that I am watching Bobby Fisher play chess, and suppose that every\n",
      "time he makes a move, I find myself nodding and saying: \"Good move!\n",
      "Just what I was expecting him to do.  Same move I would have made if\n",
      "I were playing.\" That would be a sign that Fisher is no better a\n",
      "chess player than myself. Given that he is better, I expect that at\n",
      "least some of his moves will have me thinking, \"Now, what do suppose\n",
      "induced him to do that?\" or even, \"Boy, that was a real slip -- he's\n",
      "just thrown the game away!\" Similarly, if God understands the\n",
      "workings of the universe better than I do, it is to be expected that\n",
      "sometimes it will look to me as if He has made a mistake.\n",
      "\n",
      "One difference between Fisher at the chessboard and God at the\n",
      "controls of the universe is that I can see the end of the chess\n",
      "game. If Fisher wins, I revise my earlier inference that it was\n",
      "carelessness that made him lose his queen 23 moves earlier.\n",
      "However, if he loses, and particularly if I can see that there was a\n",
      "time when he had an opportunity for a checkmate in two moves and did\n",
      "not take it, then I know that he is not as good a player as I had\n",
      "thought.\n",
      "\n",
      "With God, on the other hand, I shall not in this life see the total\n",
      "result of some of His actions. Therefore, my grounds for judging\n",
      "that I have seen a bad move on His part must always be far shakier\n",
      "than my grounds for making a similar judgement about Fisher.\n",
      "\n",
      "     *****     *****     *****     *****     *****\n",
      "\n",
      "In the book of Genesis, we read that Joseph's ten older brothers,\n",
      "who (with good reason) found  him insufferable, conspired to sell\n",
      "him into slavery in Egypt. There he eventually became Viceroy, and\n",
      "when there was a famine in Canaan, he was able to provide for his\n",
      "family. When his brothers nervously apologized, he told them: \"Do\n",
      "not worry. You meant to do me evil, but God turned it into good.\"\n",
      "\n",
      "I once heard a rabbi speak on this text. He said:\n",
      "\n",
      "        The history of the Jews is largely a history of events\n",
      "   that look like catastrophes that threaten the continued\n",
      "   survival of the religion, or the people, or both. But,\n",
      "   amazingly, those events turn out to be the saving of the Jews\n",
      "   and of Judaism.\n",
      "        The sale of Joseph by his brothers looked like the breakup\n",
      "   of the family.  But in fact, it ended with a reconciliation of\n",
      "   the quarrel between them. The famine that drove the family out\n",
      "   of Canaan looked like a misfortune for them.  But in fact, if\n",
      "   they had stayed in Canaan, they would almost certainly have\n",
      "   intermarried with the Canaanites and been assimilated into\n",
      "   their culture.  Their oppression by the Egyptians a few\n",
      "   generations after their arrival in Egypt again looked like a\n",
      "   disaster. But God used it to bring them out of Egypt, and into\n",
      "   the Promised Land.\n",
      "        Here the people built a Temple, and regularly offered\n",
      "   sacrifices. But the Babylonians captured Jerusalem and Judea,\n",
      "   destroyed Temple and city and countryside, and deported most of\n",
      "   the people to Babylon. You might have thought that that would\n",
      "   be the end of the people and the religion. But it was not.\n",
      "   Living in Canaan, the people had been under constant danger of\n",
      "   assimilation.  Again and again, they had turned from the\n",
      "   worship of the LORD to the worship of the Canaanite fertility\n",
      "   cults, with their ritual prostitution and ritual human\n",
      "   sacrifice. The Babylonian captivity put a stop to that. Never\n",
      "   again did the Jews show any interest in polytheism or idolatry.\n",
      "   Neither the worship of the Canaanites mor that of the\n",
      "   Babylonians ever again had a foothold among them.\n",
      "        Nor is that all. Judaism had been in danger of becoming\n",
      "   simply a system of sacrifices and Temple observances. The only\n",
      "   prescribed acts of worship consisted of coming to Jerusalem\n",
      "   every so often and offering a sacrifice. During the Captivity,\n",
      "   with the Temple gone, the Jews invented the synagogue, a place\n",
      "   of meeting for reading and study and discussion of the\n",
      "   Scriptures. They came to realize clearly, what they were in\n",
      "   danger of forgetting while they continued to live in Judea,\n",
      "   that God is not simply a local or tribal deity, not just the\n",
      "   controller of the land of Canaan, or the patron of the Jewish\n",
      "   people, but the Creator of the world, and the Ruler and Judge\n",
      "   of all humans everywhere.\n",
      "        Time passed, and the Babylonian Empire was replaced by\n",
      "   that of the Persians, and then that of the Greeks, or rather\n",
      "   the Macedonians. The ruler, Antiochus Epiphanes, was determined\n",
      "   to stamp out Judaism, and to this end he made the reading and\n",
      "   the study of the Torah punishable by death. Again, one might\n",
      "   think that this would be the end of Judaism. But it was not.\n",
      "   The people met for worship, and instead of reading the Torah\n",
      "   portion appointed for the day, they would read some passage\n",
      "   from the prophets that had a similar theme, and then discuss\n",
      "   that.  Before this time, the Torah, the so-called Five Books of\n",
      "   Moses (Genesis, Exodus, Leviticus, Numbers, and Deuteronomy)\n",
      "   were the only books read and studied in the synagogue.  If it\n",
      "   had not been for Antiochus, the books of the prophets would\n",
      "   probably have been forgotten altogether. His hatred for Judaism\n",
      "   saved them.\n",
      "\n",
      "        [Other examples here omitted for brevity's sake.]\n",
      "\n",
      "        Some of you may remember that Julie Andrews first became\n",
      "   famous as Eliza Doolittle in the stage production of MY FAIR\n",
      "   LADY. When Warner Brothers undertook to make a movie of it,\n",
      "   everyone expected that Julie, who had been so magnificent on\n",
      "   stage, would play the same role in the movie. Instead, the\n",
      "   studio decided to go with an established screen star, and cast\n",
      "   Audrey Hepburn.  Julie Andrews was naturally crushed. But she\n",
      "   later realized that if she had played the screen role, she\n",
      "   would have been type-cast for life as an Elize Doolittle type.\n",
      "   It would have been a disaster for her. As it was, Walt Disney\n",
      "   offered her the role of Mary Poppins, and she won an Oscar for\n",
      "   it.  At the presentation, she stood there, smiling, and looking\n",
      "   at Walt Disney, she said, \"And now, my special thanks to the\n",
      "   man who made all this possible -- JACK WARNER!\" It was the most\n",
      "   memorable line of the evening.\n",
      "        In a similar spirit, we Jews might thank the men who in\n",
      "   the providence of God have preserved Judaism, and kept it alive\n",
      "   to this day, beginning with Joseph's brothers, and continuing\n",
      "   with two Pharaohs, with Nebuchadnezzar, with Antiochus\n",
      "   Epiphanes....\n",
      "\n",
      "After the formal meeting had broken up, one woman came up to him\n",
      "privately and said, \"You were talking about the Holocaust, weren't\n",
      "you?\" He answered, \"If that is an example that came to your mind,\n",
      "then you are right, I was talking about it to you. But I would not\n",
      "talk about it to everyone, for not everyone can bear it.\" I assume\n",
      "that he meant that, without the Holocaust, there would have been no\n",
      "state of Israel.\n",
      "\n",
      "Someone hearing the rabbi's lecture might leap to the conclusion\n",
      "that God is dependent on the wickedness of men to accomplish His\n",
      "purposes -- or at least that the rabbi thought so. He might then  go\n",
      "on to suppose that the wickedness is in fact God's doing -- that He\n",
      "stirred up Joseph's brothers to a murderous hate against him, and\n",
      "that when the Israelites were in Egypt, God hardened Pharaoh's\n",
      "heart, so that he oppressed the people, and would not let them go.\n",
      "And this raises questions about how an action can be considered\n",
      "wicked and at the same time be considered something that God has\n",
      "brought about.\n",
      "\n",
      "I suggest another way of looking at it. Consider a sculptor who has\n",
      "a log of wood from which he proposes to carve a statue. But the log,\n",
      "instead of having a smooth even grain throughout, has a large knot\n",
      "that spoils the appearance of the surface. The sculptor considers\n",
      "the wood for a while, and then carves a statue that features the\n",
      "knot, that makes that particular interruption in the grain and color\n",
      "of the wood correspond to some feature of the statue, so that\n",
      "observers will say: \"How fortunate the sculptor was in finding a\n",
      "piece of wood with a knot like that in just the right place. Its\n",
      "presence is the crowning touch, the thing that makes the statue a\n",
      "great work of art.\" In reality, the knot, far from being what the sculptor was\n",
      "looking for, was a challenge to his skill. If the wood had not\n",
      "contained that flaw, he would still have made a great work of art,\n",
      "but a different one. So, if Joseph's brothers had not sold him, God\n",
      "would still have brought about His purposes for the Jewish people,\n",
      "but He would have done so in another manner. If Judas had not\n",
      "betrayed Jesus, if Caiaphas and his fellow leaders had not rejected\n",
      "Jesus, but had rather acknowledged Him as the Annointed of God, if\n",
      "Pilate had followed his conscience rather than his fears and had set\n",
      "Jesus free, it might appear that there would have been no\n",
      "Crucifixion, and therefore no Redemption, and therefore no\n",
      "Salvation. Not so. God did not need Judas' sin to redeem us. If\n",
      "Judas had done right, then God in Christ would still have reconciled\n",
      "the world to Himself.  We do not know how, just as we do not know\n",
      "how Michelangelo would have painted the Sistine Chapel if its\n",
      "interior had instead been shaped like Grand Central Station, and\n",
      "just as we do not know how Bobby Fisher would have won his fourth\n",
      "game agianst Spassky if Spassky had refused the exchange of bishops\n",
      "and had attacked Fisher's knight instead (don't bother to look up\n",
      "the game in question--I am making up this example, but the point is\n",
      "none the less valid).\n",
      "\n",
      "Thus, we may say both (1) that God used, say, the cowardice of\n",
      "Pilate to accomplish His purposes, and (2) that the said cowardice\n",
      "was not God's doing, and that Pilate would not have thwarted God's\n",
      "plans by behaving justly and courageously.\n",
      "\n",
      "What, then, are we to make of the place where God says to Moses, \"I\n",
      "will harden Pharaoh's heart, so that he will not let the people go\"?\n",
      "Some Christians have taken this to mean that Pharaoh was a puppet\n",
      "with God pulling the strings, and that his stubbornness and cruelty\n",
      "were not his own work, but the work of God in him. I suppose rather\n",
      "that what God was telling Moses was something like this: \"If you see\n",
      "that Pharaoh is not willing to let the people go, do not be\n",
      "discouraged, or suppose that the situation is out of my control. My\n",
      "purposes will not be thwarted. If Pharaoh chooses to hear you and\n",
      "let the people go, well and good. If he does not, I will fit his\n",
      "resistance into my plans, and fit it so perfectly that future\n",
      "historians and theologians will suppose that I would have been\n",
      "thrown for a loss if Pharaoh had obeyed me.\"\n",
      "\n",
      "To return to the question that started this all off. Is it possible\n",
      "that the Serbs, in slaughtering the Moslems of Bosnia, are\n",
      "instruments of God's will?\n",
      "     First point. What they are doing is wrong, just as what\n",
      "Joseph's brothers did was wrong, just as what Judas did was wrong.\n",
      "They intend it for evil. If God somehow brings good out of it, that\n",
      "does not make them any less subject to just condemnation and\n",
      "punishment.\n",
      "     Second point. Of course, God will bring good out of it. But not\n",
      "the same good that He would have brought if the Serbians had\n",
      "refrained from the sins of robbery and rape and murder. Nor does the\n",
      "good He purposes excuse us from the duty of doing what is right.\n",
      "\n",
      " Yours,\n",
      " James Kiefer\n",
      "\n",
      "0\n"
     ]
    }
   ],
   "source": [
    "preprocessingTest = X[112]\n",
    "print(preprocessingTest)\n",
    "print(y[0])"
   ]
  },
  {
   "cell_type": "code",
   "execution_count": 10,
   "metadata": {},
   "outputs": [],
   "source": [
    "from sklearn.model_selection import train_test_split\n",
    "X_train, X_test, y_train, y_test = train_test_split(X, y,\n",
    "                                                   test_size=0.3,\n",
    "                                                   stratify=y,\n",
    "                                                   random_state=1)"
   ]
  },
  {
   "cell_type": "code",
   "execution_count": 38,
   "metadata": {},
   "outputs": [
    {
     "data": {
      "text/plain": [
       "'from keith cco caltech edu keith allan schneider subject re political atheists organization california institute of technology pasadena lines 14 nntp posting host lloyd caltech edu bobbe vice ico tek com robert beauchaine writes to show that the examples i and others have provided are not counter examples of your supposed inherent moral hypothesis you have to successfully argue that domestication removes or alters this morality i think that domestication will change behavior to a large degree domesticated animals exhibit behaviors not found in the wild i don t think that they can be viewed as good representatives of the wild animal kingdom since they have been bred for thousands of years to produce certain behaviors etc keith '"
      ]
     },
     "execution_count": 38,
     "metadata": {},
     "output_type": "execute_result"
    }
   ],
   "source": [
    "import re\n",
    "def preprocessorRegex(text):\n",
    "    text = re.sub('[\\W]+', ' ', text)  # remove all non-words\n",
    "    text = text.lower()                # change to lower cases\n",
    "    return text\n",
    "preprocessorRegex(preprocessingTest)"
   ]
  },
  {
   "cell_type": "code",
   "execution_count": 39,
   "metadata": {
    "scrolled": true
   },
   "outputs": [
    {
     "name": "stderr",
     "output_type": "stream",
     "text": [
      "[nltk_data] Downloading package punkt to /root/nltk_data...\n",
      "[nltk_data]   Package punkt is already up-to-date!\n"
     ]
    },
    {
     "data": {
      "text/plain": [
       "['from',\n",
       " 'keith',\n",
       " 'cco',\n",
       " 'caltech',\n",
       " 'edu',\n",
       " 'keith',\n",
       " 'allan',\n",
       " 'schneider',\n",
       " 'subject',\n",
       " 're',\n",
       " 'polit',\n",
       " 'atheist',\n",
       " 'organ',\n",
       " 'california',\n",
       " 'institut',\n",
       " 'of',\n",
       " 'technolog',\n",
       " 'pasadena',\n",
       " 'line',\n",
       " '14',\n",
       " 'nntp',\n",
       " 'post',\n",
       " 'host',\n",
       " 'lloyd',\n",
       " 'caltech',\n",
       " 'edu',\n",
       " 'bobb',\n",
       " 'vice',\n",
       " 'ico',\n",
       " 'tek',\n",
       " 'com',\n",
       " 'robert',\n",
       " 'beauchain',\n",
       " 'write',\n",
       " 'to',\n",
       " 'show',\n",
       " 'that',\n",
       " 'the',\n",
       " 'exampl',\n",
       " 'i',\n",
       " 'and',\n",
       " 'other',\n",
       " 'have',\n",
       " 'provid',\n",
       " 'are',\n",
       " 'not',\n",
       " 'counter',\n",
       " 'exampl',\n",
       " 'of',\n",
       " 'your',\n",
       " 'suppos',\n",
       " 'inher',\n",
       " 'moral',\n",
       " 'hypothesi',\n",
       " 'you',\n",
       " 'have',\n",
       " 'to',\n",
       " 'success',\n",
       " 'argu',\n",
       " 'that',\n",
       " 'domest',\n",
       " 'remov',\n",
       " 'or',\n",
       " 'alter',\n",
       " 'thi',\n",
       " 'moral',\n",
       " 'i',\n",
       " 'think',\n",
       " 'that',\n",
       " 'domest',\n",
       " 'will',\n",
       " 'chang',\n",
       " 'behavior',\n",
       " 'to',\n",
       " 'a',\n",
       " 'larg',\n",
       " 'degre',\n",
       " 'domest',\n",
       " 'anim',\n",
       " 'exhibit',\n",
       " 'behavior',\n",
       " 'not',\n",
       " 'found',\n",
       " 'in',\n",
       " 'the',\n",
       " 'wild',\n",
       " 'i',\n",
       " 'don',\n",
       " 't',\n",
       " 'think',\n",
       " 'that',\n",
       " 'they',\n",
       " 'can',\n",
       " 'be',\n",
       " 'view',\n",
       " 'as',\n",
       " 'good',\n",
       " 'repres',\n",
       " 'of',\n",
       " 'the',\n",
       " 'wild',\n",
       " 'anim',\n",
       " 'kingdom',\n",
       " 'sinc',\n",
       " 'they',\n",
       " 'have',\n",
       " 'been',\n",
       " 'bred',\n",
       " 'for',\n",
       " 'thousand',\n",
       " 'of',\n",
       " 'year',\n",
       " 'to',\n",
       " 'produc',\n",
       " 'certain',\n",
       " 'behavior',\n",
       " 'etc',\n",
       " 'keith']"
      ]
     },
     "execution_count": 39,
     "metadata": {},
     "output_type": "execute_result"
    }
   ],
   "source": [
    "import nltk\n",
    "nltk.download('punkt')   # tokenizer\n",
    "from nltk.stem.porter import PorterStemmer\n",
    "porter = PorterStemmer()\n",
    "\n",
    "def tokenizer_porter(text):\n",
    "    text_tokens = nltk.word_tokenize(text)\n",
    "    return [porter.stem(word) for word in text_tokens]\n",
    "\n",
    "tokenizer_porter(preprocessorRegex(preprocessingTest))"
   ]
  },
  {
   "cell_type": "code",
   "execution_count": 16,
   "metadata": {
    "scrolled": true
   },
   "outputs": [
    {
     "name": "stderr",
     "output_type": "stream",
     "text": [
      "[nltk_data] Downloading package stopwords to /root/nltk_data...\n"
     ]
    },
    {
     "name": "stdout",
     "output_type": "stream",
     "text": [
      "['i', 'me', 'my', 'myself', 'we', 'our', 'ours', 'ourselves', 'you', \"you're\", \"you've\", \"you'll\", \"you'd\", 'your', 'yours', 'yourself', 'yourselves', 'he', 'him', 'his', 'himself', 'she', \"she's\", 'her', 'hers', 'herself', 'it', \"it's\", 'its', 'itself', 'they', 'them', 'their', 'theirs', 'themselves', 'what', 'which', 'who', 'whom', 'this', 'that', \"that'll\", 'these', 'those', 'am', 'is', 'are', 'was', 'were', 'be', 'been', 'being', 'have', 'has', 'had', 'having', 'do', 'does', 'did', 'doing', 'a', 'an', 'the', 'and', 'but', 'if', 'or', 'because', 'as', 'until', 'while', 'of', 'at', 'by', 'for', 'with', 'about', 'against', 'between', 'into', 'through', 'during', 'before', 'after', 'above', 'below', 'to', 'from', 'up', 'down', 'in', 'out', 'on', 'off', 'over', 'under', 'again', 'further', 'then', 'once', 'here', 'there', 'when', 'where', 'why', 'how', 'all', 'any', 'both', 'each', 'few', 'more', 'most', 'other', 'some', 'such', 'no', 'nor', 'not', 'only', 'own', 'same', 'so', 'than', 'too', 'very', 's', 't', 'can', 'will', 'just', 'don', \"don't\", 'should', \"should've\", 'now', 'd', 'll', 'm', 'o', 're', 've', 'y', 'ain', 'aren', \"aren't\", 'couldn', \"couldn't\", 'didn', \"didn't\", 'doesn', \"doesn't\", 'hadn', \"hadn't\", 'hasn', \"hasn't\", 'haven', \"haven't\", 'isn', \"isn't\", 'ma', 'mightn', \"mightn't\", 'mustn', \"mustn't\", 'needn', \"needn't\", 'shan', \"shan't\", 'shouldn', \"shouldn't\", 'wasn', \"wasn't\", 'weren', \"weren't\", 'won', \"won't\", 'wouldn', \"wouldn't\"]\n"
     ]
    },
    {
     "name": "stderr",
     "output_type": "stream",
     "text": [
      "[nltk_data]   Unzipping corpora/stopwords.zip.\n"
     ]
    }
   ],
   "source": [
    "# stopwords\n",
    "from nltk.corpus import stopwords\n",
    "nltk.download('stopwords')\n",
    "\n",
    "stop = stopwords.words('english')\n",
    "print(stop)"
   ]
  },
  {
   "cell_type": "code",
   "execution_count": 40,
   "metadata": {},
   "outputs": [
    {
     "name": "stderr",
     "output_type": "stream",
     "text": [
      "/usr/local/lib/python3.6/dist-packages/sklearn/feature_extraction/text.py:386: UserWarning: Your stop_words may be inconsistent with your preprocessing. Tokenizing the stop words generated tokens ['abov', 'ani', 'becaus', 'befor', 'doe', 'dure', 'ha', 'hi', 'onc', 'onli', 'ourselv', 'themselv', 'thi', 'veri', 'wa', 'whi', 'yourselv'] not in stop_words.\n",
      "  'stop_words.' % sorted(inconsistent))\n"
     ]
    }
   ],
   "source": [
    "from sklearn.feature_extraction.text import TfidfVectorizer\n",
    "\n",
    "tfidf = TfidfVectorizer(strip_accents=None, # 엑센트표현 지우기 옵션\n",
    "                        lowercase=False,\n",
    "                        preprocessor=preprocessorRegex,   # preprocessing\n",
    "                        tokenizer=tokenizer_porter,  # stemming\n",
    "                        stop_words=stop,              # removing stopwords\n",
    "                        min_df=10,\n",
    "                        max_df=0.1\n",
    "                       )\n",
    "X_train_vector = tfidf.fit_transform(X_train)\n",
    "X_test_vector = tfidf.transform(X_test)"
   ]
  },
  {
   "cell_type": "code",
   "execution_count": 41,
   "metadata": {},
   "outputs": [
    {
     "data": {
      "text/plain": [
       "(1579, 2830)"
      ]
     },
     "execution_count": 41,
     "metadata": {},
     "output_type": "execute_result"
    }
   ],
   "source": [
    "X_train_vector = X_train_vector.toarray()\n",
    "X_test_vector = X_test_vector.toarray()\n",
    "X_train_vector.shape"
   ]
  },
  {
   "cell_type": "code",
   "execution_count": 42,
   "metadata": {},
   "outputs": [
    {
     "name": "stderr",
     "output_type": "stream",
     "text": [
      "[Parallel(n_jobs=1)]: Using backend SequentialBackend with 1 concurrent workers.\n",
      "[Parallel(n_jobs=1)]: Done   1 out of   1 | elapsed:    0.4s finished\n"
     ]
    },
    {
     "data": {
      "text/plain": [
       "LogisticRegression(verbose=1)"
      ]
     },
     "execution_count": 42,
     "metadata": {},
     "output_type": "execute_result"
    }
   ],
   "source": [
    "from sklearn.linear_model import LogisticRegression\n",
    "lr = LogisticRegression(penalty='l2', verbose=1 )\n",
    "lr.fit(X_train_vector, y_train)"
   ]
  },
  {
   "cell_type": "code",
   "execution_count": 43,
   "metadata": {},
   "outputs": [
    {
     "data": {
      "text/plain": [
       "0.9917669411019633"
      ]
     },
     "execution_count": 43,
     "metadata": {},
     "output_type": "execute_result"
    }
   ],
   "source": [
    "lr.score(X_train_vector, y_train)"
   ]
  },
  {
   "cell_type": "code",
   "execution_count": 44,
   "metadata": {},
   "outputs": [
    {
     "data": {
      "text/plain": [
       "0.9587020648967551"
      ]
     },
     "execution_count": 44,
     "metadata": {},
     "output_type": "execute_result"
    }
   ],
   "source": [
    "lr.score(X_test_vector, y_test)"
   ]
  },
  {
   "cell_type": "code",
   "execution_count": 45,
   "metadata": {},
   "outputs": [
    {
     "data": {
      "text/plain": [
       "DecisionTreeClassifier()"
      ]
     },
     "execution_count": 45,
     "metadata": {},
     "output_type": "execute_result"
    }
   ],
   "source": [
    "from sklearn.tree import DecisionTreeClassifier\n",
    "\n",
    "tree = DecisionTreeClassifier()\n",
    "tree.fit(X_train_vector, y_train)"
   ]
  },
  {
   "cell_type": "code",
   "execution_count": 46,
   "metadata": {},
   "outputs": [
    {
     "data": {
      "text/plain": [
       "1.0"
      ]
     },
     "execution_count": 46,
     "metadata": {},
     "output_type": "execute_result"
    }
   ],
   "source": [
    "tree.score(X_train_vector, y_train)"
   ]
  },
  {
   "cell_type": "code",
   "execution_count": 48,
   "metadata": {},
   "outputs": [
    {
     "data": {
      "text/plain": [
       "0.8480825958702065"
      ]
     },
     "execution_count": 48,
     "metadata": {},
     "output_type": "execute_result"
    }
   ],
   "source": [
    "tree.score(X_test_vector, y_test)"
   ]
  },
  {
   "cell_type": "code",
   "execution_count": 59,
   "metadata": {},
   "outputs": [
    {
     "name": "stdout",
     "output_type": "stream",
     "text": [
      "[1208  556 1477 ... 1858 1857    0]\n",
      "[0. 0. 0. ... 0. 0. 0.]\n",
      " 1. ['graphic']                    0.099578\n",
      " 2. ['christ']                     0.067288\n",
      " 3. ['keith']                      0.058725\n",
      " 4. ['atho']                       0.051831\n",
      " 5. ['islam']                      0.047137\n",
      " 6. ['church']                     0.041354\n",
      " 7. ['file']                       0.037450\n",
      " 8. ['atheism']                    0.033920\n",
      " 9. ['pitt']                       0.030543\n",
      "10. ['doctor']                     0.027389\n",
      "11. ['food']                       0.021828\n",
      "12. ['medic']                      0.019926\n",
      "13. ['faith']                      0.018722\n",
      "14. ['imag']                       0.017166\n",
      "15. ['moral']                      0.015391\n",
      "16. ['benedikt']                   0.011706\n",
      "17. ['3d']                         0.010780\n",
      "18. ['heaven']                     0.010704\n",
      "19. ['window']                     0.010266\n",
      "20. ['algorithm']                  0.009738\n"
     ]
    }
   ],
   "source": [
    "import numpy as np\n",
    "importances = tree.feature_importances_\n",
    "indices = np.argsort(importances)[::-1]\n",
    "\n",
    "for f in range(20):\n",
    "    print(\"%2d. %-30s %f\" % (f+1,\n",
    "                            [w for w, n in tfidf.vocabulary_.items()\n",
    "                            if n == indices[f]],\n",
    "                            importances[indices[f]]))"
   ]
  },
  {
   "cell_type": "code",
   "execution_count": 34,
   "metadata": {},
   "outputs": [],
   "source": [
    "docs = ['The outbreak was declared a global pandemic by the World Health Organization (WHO) on 11 March.',\n",
    "\n",
    "'Today, computer graphics is a core technology in digitalphotography, film, video games, cell phone and computer displays,and many specialized applications.',\n",
    "\n",
    "'Arguments for atheism range from philosophical to social and historical approaches.',\n",
    "\n",
    "'The Bible is a compilation of many shorter books written at different times by a variety of authors, and later assembled into the biblical canon.'\n",
    "]"
   ]
  },
  {
   "cell_type": "code",
   "execution_count": 55,
   "metadata": {},
   "outputs": [],
   "source": [
    "test = tfidf.transform(docs)"
   ]
  },
  {
   "cell_type": "code",
   "execution_count": 56,
   "metadata": {},
   "outputs": [
    {
     "data": {
      "text/plain": [
       "array([2, 1, 0, 3])"
      ]
     },
     "execution_count": 56,
     "metadata": {},
     "output_type": "execute_result"
    }
   ],
   "source": [
    "lr.predict(test)"
   ]
  },
  {
   "cell_type": "code",
   "execution_count": 57,
   "metadata": {},
   "outputs": [
    {
     "data": {
      "text/plain": [
       "['alt.atheism', 'comp.graphics', 'sci.med', 'soc.religion.christian']"
      ]
     },
     "execution_count": 57,
     "metadata": {},
     "output_type": "execute_result"
    }
   ],
   "source": [
    "news.target_names"
   ]
  },
  {
   "cell_type": "code",
   "execution_count": null,
   "metadata": {},
   "outputs": [],
   "source": []
  }
 ],
 "metadata": {
  "kernelspec": {
   "display_name": "Python 3",
   "language": "python",
   "name": "python3"
  },
  "language_info": {
   "codemirror_mode": {
    "name": "ipython",
    "version": 3
   },
   "file_extension": ".py",
   "mimetype": "text/x-python",
   "name": "python",
   "nbconvert_exporter": "python",
   "pygments_lexer": "ipython3",
   "version": "3.6.9"
  }
 },
 "nbformat": 4,
 "nbformat_minor": 4
}
