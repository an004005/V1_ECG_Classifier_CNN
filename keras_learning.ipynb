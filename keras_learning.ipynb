{
 "cells": [
  {
   "cell_type": "code",
   "execution_count": 1,
   "metadata": {},
   "outputs": [
    {
     "name": "stderr",
     "output_type": "stream",
     "text": [
      "Using TensorFlow backend.\n"
     ]
    }
   ],
   "source": [
    "import glob\n",
    "import os\n",
    "import cv2\n",
    "import numpy as np\n",
    "import matplotlib.pyplot as plt\n",
    "import pandas as pd\n",
    "import operator\n",
    "# import xml.etree.ElementTree as elemTree\n",
    "\n",
    "#tensor modules\n",
    "from sklearn.model_selection import train_test_split\n",
    "from sklearn.preprocessing import MinMaxScaler\n",
    "import keras\n",
    "from keras import optimizers, losses, activations, models\n",
    "from keras.callbacks import ModelCheckpoint, EarlyStopping, LearningRateScheduler, ReduceLROnPlateau\n",
    "from keras.layers import Dense, Input, Dropout, Convolution1D, MaxPool1D, GlobalMaxPool1D, GlobalAveragePooling1D, \\\n",
    "    concatenate\n",
    "from sklearn.metrics import f1_score, accuracy_score"
   ]
  },
  {
   "cell_type": "code",
   "execution_count": 31,
   "metadata": {},
   "outputs": [],
   "source": [
    "Dict = {'aVF': [], 'aVL': [], 'aVR': [], 'lead I': [], 'lead II': [], 'lead III': [],\n",
    "           'V1': [], 'V2': [], 'V3': [], 'V4': [], 'V5': [], 'V6': []}\n",
    "# Dict = {'aVF': []}\n",
    "\n",
    "for k, v in Dict.items():\n",
    "    Dict[k] = pd.read_csv(k + '.csv', index_col=0)\n",
    "for k, v in Dict.items():\n",
    "    Dict[k] = np.array(v)\n",
    "Y = pd.read_csv('label.csv', index_col=0)\n",
    "\n",
    "\n"
   ]
  },
  {
   "cell_type": "code",
   "execution_count": 32,
   "metadata": {},
   "outputs": [
    {
     "data": {
      "text/plain": [
       "(173, 660)"
      ]
     },
     "execution_count": 32,
     "metadata": {},
     "output_type": "execute_result"
    }
   ],
   "source": [
    "Dict['aVF'].shape"
   ]
  },
  {
   "cell_type": "code",
   "execution_count": 33,
   "metadata": {},
   "outputs": [
    {
     "name": "stdout",
     "output_type": "stream",
     "text": [
      "(173, 660, 12)\n"
     ]
    }
   ],
   "source": [
    "X = []\n",
    "for i in range(Dict['aVF'].shape[0]):\n",
    "    tmp = []\n",
    "    for k, v in Dict.items():\n",
    "        tmp.append(v[i])\n",
    "    X.append(np.array(tmp).T)\n",
    "    \n",
    "X = np.array(X)\n",
    "print(X.shape)"
   ]
  },
  {
   "cell_type": "code",
   "execution_count": 34,
   "metadata": {},
   "outputs": [
    {
     "name": "stdout",
     "output_type": "stream",
     "text": [
      "[0 0 1 1 1 1 1 1 1 1 1 0 0 1 1 1 1 0 1 0 1 1 1 1 1 1 1 1 1 1 1 1 1 0 0 1 1\n",
      " 1 1 1 1 1 0 0 1 0 1 1 0 0 0 0 0 0 0 1 1 1 0 1 1 1 1 1 1 1 1 1 1 1 1 1 1 1\n",
      " 1 1 1 1 0 0 0 1 1 0 1 0 1 1 1 1 1 1 1 1 1 0 1 1 1 1 1 0 1 1 1 0 0 1 1 1 1\n",
      " 1 1 1 1 0 1 1 1 1 1 1 1 1 1 1 1 1 1 1 0 1 1 1 1 1 1 1 1 1 0 1 1 1 0 0 0 1\n",
      " 1 1 1 1 0 0 0 1 0 0 0 0 1 1 1 1 1 1 1 1 1 1 0 0 0]\n"
     ]
    }
   ],
   "source": [
    "types = {'PVC LBBB': 0, 'PVC RBBB': 0, 'sinus': 1}\n",
    "\n",
    "Y = np.array(Y)\n",
    "X_data=np.array(X)\n",
    "Y_data = []\n",
    "\n",
    "for row in Y:\n",
    "    for i in row:\n",
    "        Y_data.append(types[i])\n",
    "        \n",
    "Y_data = np.array(Y_data)\n",
    "print(Y_data)"
   ]
  },
  {
   "cell_type": "code",
   "execution_count": 35,
   "metadata": {},
   "outputs": [
    {
     "name": "stdout",
     "output_type": "stream",
     "text": [
      "(173, 660, 12) (173,)\n"
     ]
    },
    {
     "data": {
      "image/png": "[encoded data removed]",
      "text/plain": [
       "<Figure size 432x288 with 1 Axes>"
      ]
     },
     "metadata": {
      "needs_background": "light"
     },
     "output_type": "display_data"
    },
    {
     "name": "stdout",
     "output_type": "stream",
     "text": [
      "0\n"
     ]
    }
   ],
   "source": [
    "print(X_data.shape, Y_data.shape)\n",
    "# RVOT anteroseptal_ PVC LBBB\\08-JUL-2009-09.09.45 PVC LBBB , aVF 이미지\n",
    "index = [i for i in range(X_data.shape[1])]\n",
    "\n",
    "fig = plt.figure()\n",
    "ax = fig.add_subplot(1,1,1)\n",
    "ax.set_ylim([0, 500])\n",
    "ax.plot(index, X_data[0].T[0])\n",
    "plt.gca().invert_yaxis()\n",
    "plt.show()\n",
    "print(Y_data[1])\n"
   ]
  },
  {
   "cell_type": "code",
   "execution_count": 36,
   "metadata": {},
   "outputs": [
    {
     "data": {
      "image/png": "[encoded data removed]",
      "text/plain": [
       "<Figure size 432x288 with 1 Axes>"
      ]
     },
     "metadata": {
      "needs_background": "light"
     },
     "output_type": "display_data"
    }
   ],
   "source": [
    "Min = np.min(X_data)\n",
    "Max = np.max(X_data)\n",
    "\n",
    "x_data_scale = np.array([[[\n",
    "    (data-Min)/(Max-Min) for data in steps\n",
    "    ] for steps in channel\n",
    "    ] for channel in X_data])\n",
    "\n",
    "\n",
    "\n",
    "fig = plt.figure()\n",
    "ax = fig.add_subplot(1,1,1)\n",
    "ax.set_ylim([0, 1])\n",
    "ax.plot(index, x_data_scale[0].T[0])\n",
    "plt.gca().invert_yaxis()\n",
    "plt.show()"
   ]
  },
  {
   "cell_type": "code",
   "execution_count": 40,
   "metadata": {},
   "outputs": [
    {
     "name": "stdout",
     "output_type": "stream",
     "text": [
      "(168, 660, 12)\n",
      "(168,)\n"
     ]
    }
   ],
   "source": [
    "y_test = Y_data[0:5]\n",
    "y_train = Y_data[5:]\n",
    "\n",
    "x_all = x_data_scale\n",
    "x_test = x_all[0:5]\n",
    "x_train = x_all[5:]\n",
    "\n",
    "print(x_train.shape)\n",
    "print(y_train.shape)\n"
   ]
  },
  {
   "cell_type": "code",
   "execution_count": 38,
   "metadata": {},
   "outputs": [],
   "source": [
    "def get_model():\n",
    "    nclass = 3\n",
    "    inp = Input(shape=(660, 12))\n",
    "\n",
    "    img_1 = Convolution1D(16, kernel_size=5, activation=activations.relu, padding=\"valid\")(inp)\n",
    "    img_1 = Convolution1D(16, kernel_size=5, activation=activations.relu, padding=\"valid\")(img_1)\n",
    "    img_1 = MaxPool1D(pool_size=2)(img_1)\n",
    "    img_1 = Dropout(rate=0.1)(img_1)\n",
    "    img_1 = Convolution1D(32, kernel_size=3, activation=activations.relu, padding=\"valid\")(img_1)\n",
    "    img_1 = Convolution1D(32, kernel_size=3, activation=activations.relu, padding=\"valid\")(img_1)\n",
    "    img_1 = MaxPool1D(pool_size=2)(img_1)\n",
    "    img_1 = Dropout(rate=0.1)(img_1)\n",
    "    img_1 = Convolution1D(32, kernel_size=3, activation=activations.relu, padding=\"valid\")(img_1)\n",
    "    img_1 = Convolution1D(32, kernel_size=3, activation=activations.relu, padding=\"valid\")(img_1)\n",
    "    img_1 = MaxPool1D(pool_size=2)(img_1)\n",
    "    img_1 = Dropout(rate=0.1)(img_1)\n",
    "    img_1 = Convolution1D(256, kernel_size=3, activation=activations.relu, padding=\"valid\")(img_1)\n",
    "    img_1 = Convolution1D(256, kernel_size=3, activation=activations.relu, padding=\"valid\")(img_1)\n",
    "    img_1 = GlobalMaxPool1D()(img_1)\n",
    "    img_1 = Dropout(rate=0.2)(img_1)\n",
    "\n",
    "    dense_1 = Dense(64, activation=activations.relu, name=\"dense_1\")(img_1)\n",
    "    dense_1 = Dense(64, activation=activations.relu, name=\"dense_2\")(dense_1)\n",
    "    dense_1 = Dense(nclass, activation=activations.softmax, name=\"dense_3_mitbih\")(dense_1)\n",
    "\n",
    "    model = models.Model(inputs=inp, outputs=dense_1)\n",
    "    opt = optimizers.Adam(0.001)\n",
    "\n",
    "    model.compile(optimizer=opt, loss=losses.sparse_categorical_crossentropy, metrics=['acc'])\n",
    "    model.summary()\n",
    "    return model"
   ]
  },
  {
   "cell_type": "code",
   "execution_count": 39,
   "metadata": {},
   "outputs": [
    {
     "name": "stdout",
     "output_type": "stream",
     "text": [
      "Model: \"model_4\"\n",
      "_________________________________________________________________\n",
      "Layer (type)                 Output Shape              Param #   \n",
      "=================================================================\n",
      "input_4 (InputLayer)         (None, 660, 12)           0         \n",
      "_________________________________________________________________\n",
      "conv1d_25 (Conv1D)           (None, 656, 16)           976       \n",
      "_________________________________________________________________\n",
      "conv1d_26 (Conv1D)           (None, 652, 16)           1296      \n",
      "_________________________________________________________________\n",
      "max_pooling1d_10 (MaxPooling (None, 326, 16)           0         \n",
      "_________________________________________________________________\n",
      "dropout_13 (Dropout)         (None, 326, 16)           0         \n",
      "_________________________________________________________________\n",
      "conv1d_27 (Conv1D)           (None, 324, 32)           1568      \n",
      "_________________________________________________________________\n",
      "conv1d_28 (Conv1D)           (None, 322, 32)           3104      \n",
      "_________________________________________________________________\n",
      "max_pooling1d_11 (MaxPooling (None, 161, 32)           0         \n",
      "_________________________________________________________________\n",
      "dropout_14 (Dropout)         (None, 161, 32)           0         \n",
      "_________________________________________________________________\n",
      "conv1d_29 (Conv1D)           (None, 159, 32)           3104      \n",
      "_________________________________________________________________\n",
      "conv1d_30 (Conv1D)           (None, 157, 32)           3104      \n",
      "_________________________________________________________________\n",
      "max_pooling1d_12 (MaxPooling (None, 78, 32)            0         \n",
      "_________________________________________________________________\n",
      "dropout_15 (Dropout)         (None, 78, 32)            0         \n",
      "_________________________________________________________________\n",
      "conv1d_31 (Conv1D)           (None, 76, 256)           24832     \n",
      "_________________________________________________________________\n",
      "conv1d_32 (Conv1D)           (None, 74, 256)           196864    \n",
      "_________________________________________________________________\n",
      "global_max_pooling1d_4 (Glob (None, 256)               0         \n",
      "_________________________________________________________________\n",
      "dropout_16 (Dropout)         (None, 256)               0         \n",
      "_________________________________________________________________\n",
      "dense_1 (Dense)              (None, 64)                16448     \n",
      "_________________________________________________________________\n",
      "dense_2 (Dense)              (None, 64)                4160      \n",
      "_________________________________________________________________\n",
      "dense_3_mitbih (Dense)       (None, 3)                 195       \n",
      "=================================================================\n",
      "Total params: 255,651\n",
      "Trainable params: 255,651\n",
      "Non-trainable params: 0\n",
      "_________________________________________________________________\n",
      "Train on 151 samples, validate on 17 samples\n",
      "Epoch 1/1000\n",
      " - 1s - loss: 0.9810 - acc: 0.7351 - val_loss: 0.9475 - val_acc: 0.5882\n",
      "\n",
      "Epoch 00001: val_acc improved from -inf to 0.58824, saving model to baseline_cnn_mitbih.h5\n",
      "Epoch 2/1000\n",
      " - 0s - loss: 0.6756 - acc: 0.7682 - val_loss: 0.8658 - val_acc: 0.5882\n",
      "\n",
      "Epoch 00002: val_acc did not improve from 0.58824\n",
      "Epoch 3/1000\n",
      " - 0s - loss: 0.5669 - acc: 0.7682 - val_loss: 0.7323 - val_acc: 0.5882\n",
      "\n",
      "Epoch 00003: val_acc did not improve from 0.58824\n",
      "Epoch 4/1000\n",
      " - 0s - loss: 0.5814 - acc: 0.7682 - val_loss: 0.7048 - val_acc: 0.5882\n",
      "\n",
      "Epoch 00004: val_acc did not improve from 0.58824\n",
      "\n",
      "Epoch 00004: ReduceLROnPlateau reducing learning rate to 0.00010000000474974513.\n",
      "Epoch 5/1000\n",
      " - 0s - loss: 0.5533 - acc: 0.7682 - val_loss: 0.7082 - val_acc: 0.5882\n",
      "\n",
      "Epoch 00005: val_acc did not improve from 0.58824\n",
      "Epoch 6/1000\n",
      " - 0s - loss: 0.5457 - acc: 0.7682 - val_loss: 0.7134 - val_acc: 0.5882\n",
      "\n",
      "Epoch 00006: val_acc did not improve from 0.58824\n",
      "Epoch 00006: early stopping\n",
      "Test f1 score : 0.37499999999999994 \n",
      "Test accuracy score : 0.6 \n"
     ]
    }
   ],
   "source": [
    "model = get_model()\n",
    "file_path = \"baseline_cnn_mitbih.h5\"\n",
    "checkpoint = ModelCheckpoint(file_path, monitor='val_acc', verbose=1, save_best_only=True, mode='max')\n",
    "early = EarlyStopping(monitor=\"val_acc\", mode=\"max\", patience=5, verbose=1)\n",
    "redonplat = ReduceLROnPlateau(monitor=\"val_acc\", mode=\"max\", patience=3, verbose=2)\n",
    "callbacks_list = [checkpoint, early, redonplat]  # early\n",
    "\n",
    "model.fit(x_train, y_train, epochs=1000, verbose=2, callbacks=callbacks_list, validation_split=0.1)\n",
    "model.load_weights(file_path)\n",
    "\n",
    "pred_test = model.predict(x_test)\n",
    "pred_test = np.argmax(pred_test, axis=-1)\n",
    "\n",
    "f1 = f1_score(y_test, pred_test, average=\"macro\")\n",
    "\n",
    "print(\"Test f1 score : %s \"% f1)\n",
    "\n",
    "acc = accuracy_score(y_test, pred_test)\n",
    "\n",
    "print(\"Test accuracy score : %s \"% acc)"
   ]
  },
  {
   "cell_type": "code",
   "execution_count": null,
   "metadata": {},
   "outputs": [],
   "source": []
  },
  {
   "cell_type": "code",
   "execution_count": null,
   "metadata": {},
   "outputs": [],
   "source": []
  }
 ],
 "metadata": {
  "kernelspec": {
   "display_name": "Python 3",
   "language": "python",
   "name": "python3"
  },
  "language_info": {
   "codemirror_mode": {
    "name": "ipython",
    "version": 3
   },
   "file_extension": ".py",
   "mimetype": "text/x-python",
   "name": "python",
   "nbconvert_exporter": "python",
   "pygments_lexer": "ipython3",
   "version": "3.6.9"
  }
 },
 "nbformat": 4,
 "nbformat_minor": 4
}
